{
 "cells": [
  {
   "cell_type": "code",
   "execution_count": 1,
   "metadata": {},
   "outputs": [],
   "source": [
    "import pandas as pd \n",
    "df = pd.read_csv('listings_toronto.csv', sep =';')"
   ]
  },
  {
   "cell_type": "code",
   "execution_count": 2,
   "metadata": {},
   "outputs": [
    {
     "data": {
      "text/plain": [
       "Index(['id', 'name', 'host_id', 'host_name', 'neighbourhood', 'latitude',\n",
       "       'longitude', 'room_type', 'price', 'minimum_nights',\n",
       "       'number_of_reviews', 'last_review', 'reviews_per_month',\n",
       "       'calculated_host_listings_count', 'availability_365',\n",
       "       'number_of_reviews_ltm', 'listing_url', 'scrape_id', 'last_scraped',\n",
       "       'source', 'description', 'neighborhood_overview', 'picture_url',\n",
       "       'host_url', 'host_since', 'host_location', 'host_response_time',\n",
       "       'host_response_rate', 'host_acceptance_rate', 'host_is_superhost',\n",
       "       'host_thumbnail_url', 'host_picture_url', 'host_listings_count',\n",
       "       'host_total_listings_count', 'host_verifications',\n",
       "       'host_has_profile_pic', 'host_identity_verified',\n",
       "       'neighbourhood_cleansed', 'property_type', 'accommodates',\n",
       "       'bathrooms_text', 'bedrooms', 'beds', 'amenities', 'maximum_nights',\n",
       "       'minimum_minimum_nights', 'maximum_minimum_nights',\n",
       "       'minimum_maximum_nights', 'maximum_maximum_nights',\n",
       "       'minimum_nights_avg_ntm', 'maximum_nights_avg_ntm', 'has_availability',\n",
       "       'availability_30', 'availability_60', 'availability_90',\n",
       "       'calendar_last_scraped', 'number_of_reviews_l30d', 'first_review',\n",
       "       'review_scores_rating', 'review_scores_accuracy',\n",
       "       'review_scores_cleanliness', 'review_scores_checkin',\n",
       "       'review_scores_communication', 'review_scores_location',\n",
       "       'review_scores_value', 'instant_bookable',\n",
       "       'calculated_host_listings_count_entire_homes',\n",
       "       'calculated_host_listings_count_private_rooms',\n",
       "       'calculated_host_listings_count_shared_rooms'],\n",
       "      dtype='object')"
      ]
     },
     "execution_count": 2,
     "metadata": {},
     "output_type": "execute_result"
    }
   ],
   "source": [
    "df.columns"
   ]
  },
  {
   "cell_type": "code",
   "execution_count": 3,
   "metadata": {},
   "outputs": [
    {
     "data": {
      "text/plain": [
       "array(['Entire home/apt', 'Private room', 'Shared room', 'Hotel room'],\n",
       "      dtype=object)"
      ]
     },
     "execution_count": 3,
     "metadata": {},
     "output_type": "execute_result"
    }
   ],
   "source": [
    "df['room_type'].unique()"
   ]
  },
  {
   "cell_type": "code",
   "execution_count": 4,
   "metadata": {},
   "outputs": [],
   "source": [
    "from pycaret.regression import *"
   ]
  },
  {
   "cell_type": "code",
   "execution_count": 5,
   "metadata": {},
   "outputs": [
    {
     "data": {
      "text/plain": [
       "Index(['id', 'name', 'host_id', 'host_name', 'neighbourhood', 'latitude',\n",
       "       'longitude', 'room_type', 'price', 'minimum_nights',\n",
       "       'number_of_reviews', 'last_review', 'reviews_per_month',\n",
       "       'calculated_host_listings_count', 'availability_365',\n",
       "       'number_of_reviews_ltm', 'listing_url', 'scrape_id', 'last_scraped',\n",
       "       'source', 'description', 'neighborhood_overview', 'picture_url',\n",
       "       'host_url', 'host_since', 'host_location', 'host_response_time',\n",
       "       'host_response_rate', 'host_acceptance_rate', 'host_is_superhost',\n",
       "       'host_thumbnail_url', 'host_picture_url', 'host_listings_count',\n",
       "       'host_total_listings_count', 'host_verifications',\n",
       "       'host_has_profile_pic', 'host_identity_verified',\n",
       "       'neighbourhood_cleansed', 'property_type', 'accommodates',\n",
       "       'bathrooms_text', 'bedrooms', 'beds', 'amenities', 'maximum_nights',\n",
       "       'minimum_minimum_nights', 'maximum_minimum_nights',\n",
       "       'minimum_maximum_nights', 'maximum_maximum_nights',\n",
       "       'minimum_nights_avg_ntm', 'maximum_nights_avg_ntm', 'has_availability',\n",
       "       'availability_30', 'availability_60', 'availability_90',\n",
       "       'calendar_last_scraped', 'number_of_reviews_l30d', 'first_review',\n",
       "       'review_scores_rating', 'review_scores_accuracy',\n",
       "       'review_scores_cleanliness', 'review_scores_checkin',\n",
       "       'review_scores_communication', 'review_scores_location',\n",
       "       'review_scores_value', 'instant_bookable',\n",
       "       'calculated_host_listings_count_entire_homes',\n",
       "       'calculated_host_listings_count_private_rooms',\n",
       "       'calculated_host_listings_count_shared_rooms'],\n",
       "      dtype='object')"
      ]
     },
     "execution_count": 5,
     "metadata": {},
     "output_type": "execute_result"
    }
   ],
   "source": [
    "df.columns"
   ]
  },
  {
   "cell_type": "code",
   "execution_count": 6,
   "metadata": {},
   "outputs": [],
   "source": [
    "df_pred = df.copy ()\n",
    "df_pred_new = df_pred[[\"neighbourhood\",\"accommodates\", \"property_type\", \"room_type\", \"price\", \"minimum_nights\", \"maximum_nights\"]]"
   ]
  },
  {
   "cell_type": "code",
   "execution_count": 7,
   "metadata": {},
   "outputs": [
    {
     "data": {
      "text/html": [
       "<style type=\"text/css\">\n",
       "#T_e883e_row9_col1 {\n",
       "  background-color: lightgreen;\n",
       "}\n",
       "</style>\n",
       "<table id=\"T_e883e\">\n",
       "  <thead>\n",
       "    <tr>\n",
       "      <th class=\"blank level0\" >&nbsp;</th>\n",
       "      <th id=\"T_e883e_level0_col0\" class=\"col_heading level0 col0\" >Description</th>\n",
       "      <th id=\"T_e883e_level0_col1\" class=\"col_heading level0 col1\" >Value</th>\n",
       "    </tr>\n",
       "  </thead>\n",
       "  <tbody>\n",
       "    <tr>\n",
       "      <th id=\"T_e883e_level0_row0\" class=\"row_heading level0 row0\" >0</th>\n",
       "      <td id=\"T_e883e_row0_col0\" class=\"data row0 col0\" >Session id</td>\n",
       "      <td id=\"T_e883e_row0_col1\" class=\"data row0 col1\" >1681</td>\n",
       "    </tr>\n",
       "    <tr>\n",
       "      <th id=\"T_e883e_level0_row1\" class=\"row_heading level0 row1\" >1</th>\n",
       "      <td id=\"T_e883e_row1_col0\" class=\"data row1 col0\" >Target</td>\n",
       "      <td id=\"T_e883e_row1_col1\" class=\"data row1 col1\" >price</td>\n",
       "    </tr>\n",
       "    <tr>\n",
       "      <th id=\"T_e883e_level0_row2\" class=\"row_heading level0 row2\" >2</th>\n",
       "      <td id=\"T_e883e_row2_col0\" class=\"data row2 col0\" >Target type</td>\n",
       "      <td id=\"T_e883e_row2_col1\" class=\"data row2 col1\" >Regression</td>\n",
       "    </tr>\n",
       "    <tr>\n",
       "      <th id=\"T_e883e_level0_row3\" class=\"row_heading level0 row3\" >3</th>\n",
       "      <td id=\"T_e883e_row3_col0\" class=\"data row3 col0\" >Original data shape</td>\n",
       "      <td id=\"T_e883e_row3_col1\" class=\"data row3 col1\" >(19275, 7)</td>\n",
       "    </tr>\n",
       "    <tr>\n",
       "      <th id=\"T_e883e_level0_row4\" class=\"row_heading level0 row4\" >4</th>\n",
       "      <td id=\"T_e883e_row4_col0\" class=\"data row4 col0\" >Transformed data shape</td>\n",
       "      <td id=\"T_e883e_row4_col1\" class=\"data row4 col1\" >(19275, 10)</td>\n",
       "    </tr>\n",
       "    <tr>\n",
       "      <th id=\"T_e883e_level0_row5\" class=\"row_heading level0 row5\" >5</th>\n",
       "      <td id=\"T_e883e_row5_col0\" class=\"data row5 col0\" >Transformed train set shape</td>\n",
       "      <td id=\"T_e883e_row5_col1\" class=\"data row5 col1\" >(13492, 10)</td>\n",
       "    </tr>\n",
       "    <tr>\n",
       "      <th id=\"T_e883e_level0_row6\" class=\"row_heading level0 row6\" >6</th>\n",
       "      <td id=\"T_e883e_row6_col0\" class=\"data row6 col0\" >Transformed test set shape</td>\n",
       "      <td id=\"T_e883e_row6_col1\" class=\"data row6 col1\" >(5783, 10)</td>\n",
       "    </tr>\n",
       "    <tr>\n",
       "      <th id=\"T_e883e_level0_row7\" class=\"row_heading level0 row7\" >7</th>\n",
       "      <td id=\"T_e883e_row7_col0\" class=\"data row7 col0\" >Numeric features</td>\n",
       "      <td id=\"T_e883e_row7_col1\" class=\"data row7 col1\" >3</td>\n",
       "    </tr>\n",
       "    <tr>\n",
       "      <th id=\"T_e883e_level0_row8\" class=\"row_heading level0 row8\" >8</th>\n",
       "      <td id=\"T_e883e_row8_col0\" class=\"data row8 col0\" >Categorical features</td>\n",
       "      <td id=\"T_e883e_row8_col1\" class=\"data row8 col1\" >3</td>\n",
       "    </tr>\n",
       "    <tr>\n",
       "      <th id=\"T_e883e_level0_row9\" class=\"row_heading level0 row9\" >9</th>\n",
       "      <td id=\"T_e883e_row9_col0\" class=\"data row9 col0\" >Preprocess</td>\n",
       "      <td id=\"T_e883e_row9_col1\" class=\"data row9 col1\" >True</td>\n",
       "    </tr>\n",
       "    <tr>\n",
       "      <th id=\"T_e883e_level0_row10\" class=\"row_heading level0 row10\" >10</th>\n",
       "      <td id=\"T_e883e_row10_col0\" class=\"data row10 col0\" >Imputation type</td>\n",
       "      <td id=\"T_e883e_row10_col1\" class=\"data row10 col1\" >simple</td>\n",
       "    </tr>\n",
       "    <tr>\n",
       "      <th id=\"T_e883e_level0_row11\" class=\"row_heading level0 row11\" >11</th>\n",
       "      <td id=\"T_e883e_row11_col0\" class=\"data row11 col0\" >Numeric imputation</td>\n",
       "      <td id=\"T_e883e_row11_col1\" class=\"data row11 col1\" >mean</td>\n",
       "    </tr>\n",
       "    <tr>\n",
       "      <th id=\"T_e883e_level0_row12\" class=\"row_heading level0 row12\" >12</th>\n",
       "      <td id=\"T_e883e_row12_col0\" class=\"data row12 col0\" >Categorical imputation</td>\n",
       "      <td id=\"T_e883e_row12_col1\" class=\"data row12 col1\" >mode</td>\n",
       "    </tr>\n",
       "    <tr>\n",
       "      <th id=\"T_e883e_level0_row13\" class=\"row_heading level0 row13\" >13</th>\n",
       "      <td id=\"T_e883e_row13_col0\" class=\"data row13 col0\" >Maximum one-hot encoding</td>\n",
       "      <td id=\"T_e883e_row13_col1\" class=\"data row13 col1\" >25</td>\n",
       "    </tr>\n",
       "    <tr>\n",
       "      <th id=\"T_e883e_level0_row14\" class=\"row_heading level0 row14\" >14</th>\n",
       "      <td id=\"T_e883e_row14_col0\" class=\"data row14 col0\" >Encoding method</td>\n",
       "      <td id=\"T_e883e_row14_col1\" class=\"data row14 col1\" >None</td>\n",
       "    </tr>\n",
       "    <tr>\n",
       "      <th id=\"T_e883e_level0_row15\" class=\"row_heading level0 row15\" >15</th>\n",
       "      <td id=\"T_e883e_row15_col0\" class=\"data row15 col0\" >Fold Generator</td>\n",
       "      <td id=\"T_e883e_row15_col1\" class=\"data row15 col1\" >KFold</td>\n",
       "    </tr>\n",
       "    <tr>\n",
       "      <th id=\"T_e883e_level0_row16\" class=\"row_heading level0 row16\" >16</th>\n",
       "      <td id=\"T_e883e_row16_col0\" class=\"data row16 col0\" >Fold Number</td>\n",
       "      <td id=\"T_e883e_row16_col1\" class=\"data row16 col1\" >10</td>\n",
       "    </tr>\n",
       "    <tr>\n",
       "      <th id=\"T_e883e_level0_row17\" class=\"row_heading level0 row17\" >17</th>\n",
       "      <td id=\"T_e883e_row17_col0\" class=\"data row17 col0\" >CPU Jobs</td>\n",
       "      <td id=\"T_e883e_row17_col1\" class=\"data row17 col1\" >-1</td>\n",
       "    </tr>\n",
       "    <tr>\n",
       "      <th id=\"T_e883e_level0_row18\" class=\"row_heading level0 row18\" >18</th>\n",
       "      <td id=\"T_e883e_row18_col0\" class=\"data row18 col0\" >Use GPU</td>\n",
       "      <td id=\"T_e883e_row18_col1\" class=\"data row18 col1\" >False</td>\n",
       "    </tr>\n",
       "    <tr>\n",
       "      <th id=\"T_e883e_level0_row19\" class=\"row_heading level0 row19\" >19</th>\n",
       "      <td id=\"T_e883e_row19_col0\" class=\"data row19 col0\" >Log Experiment</td>\n",
       "      <td id=\"T_e883e_row19_col1\" class=\"data row19 col1\" >False</td>\n",
       "    </tr>\n",
       "    <tr>\n",
       "      <th id=\"T_e883e_level0_row20\" class=\"row_heading level0 row20\" >20</th>\n",
       "      <td id=\"T_e883e_row20_col0\" class=\"data row20 col0\" >Experiment Name</td>\n",
       "      <td id=\"T_e883e_row20_col1\" class=\"data row20 col1\" >reg-default-name</td>\n",
       "    </tr>\n",
       "    <tr>\n",
       "      <th id=\"T_e883e_level0_row21\" class=\"row_heading level0 row21\" >21</th>\n",
       "      <td id=\"T_e883e_row21_col0\" class=\"data row21 col0\" >USI</td>\n",
       "      <td id=\"T_e883e_row21_col1\" class=\"data row21 col1\" >9778</td>\n",
       "    </tr>\n",
       "  </tbody>\n",
       "</table>\n"
      ],
      "text/plain": [
       "<pandas.io.formats.style.Styler at 0x26d26dde800>"
      ]
     },
     "metadata": {},
     "output_type": "display_data"
    }
   ],
   "source": [
    "setup = setup(df_pred_new, target = 'price')"
   ]
  },
  {
   "cell_type": "code",
   "execution_count": 14,
   "metadata": {},
   "outputs": [
    {
     "data": {
      "text/html": [],
      "text/plain": [
       "<IPython.core.display.HTML object>"
      ]
     },
     "metadata": {},
     "output_type": "display_data"
    },
    {
     "data": {
      "text/html": [],
      "text/plain": [
       "<IPython.core.display.HTML object>"
      ]
     },
     "metadata": {},
     "output_type": "display_data"
    },
    {
     "data": {
      "text/html": [],
      "text/plain": [
       "<IPython.core.display.HTML object>"
      ]
     },
     "metadata": {},
     "output_type": "display_data"
    },
    {
     "name": "stdout",
     "output_type": "stream",
     "text": [
      "ElasticNet(random_state=1681)\n"
     ]
    }
   ],
   "source": [
    "best = compare_models()\n",
    "print(best)"
   ]
  },
  {
   "cell_type": "code",
   "execution_count": 11,
   "metadata": {},
   "outputs": [
    {
     "name": "stdout",
     "output_type": "stream",
     "text": [
      "                                    Model       MAE          MSE      RMSE  \\\n",
      "en                            Elastic Net   99.1961  124946.9714  333.1203   \n",
      "lasso                    Lasso Regression   99.8077  124898.4826  333.1333   \n",
      "llar         Lasso Least Angle Regression   99.8074  124898.4484  333.1332   \n",
      "br                         Bayesian Ridge  100.0189  124923.5102  333.1911   \n",
      "lr                      Linear Regression  100.3334  124968.2167  333.2912   \n",
      "ridge                    Ridge Regression  100.3313  124967.8924  333.2905   \n",
      "lar                Least Angle Regression  100.3392  124969.3545  333.2930   \n",
      "huber                     Huber Regressor   86.8399  127184.6235  336.2940   \n",
      "lightgbm  Light Gradient Boosting Machine   93.0220  127533.5512  338.7906   \n",
      "omp           Orthogonal Matching Pursuit  111.1050  130700.9160  342.7269   \n",
      "gbr           Gradient Boosting Regressor   92.4853  134406.4150  347.9917   \n",
      "dummy                     Dummy Regressor  128.7941  136372.5436  351.4298   \n",
      "par          Passive Aggressive Regressor  150.6116  143444.8733  361.2748   \n",
      "knn                 K Neighbors Regressor  102.2304  147603.6038  371.0967   \n",
      "rf                Random Forest Regressor   98.4948  149855.6679  375.2081   \n",
      "et                  Extra Trees Regressor  100.7679  162731.2799  392.0061   \n",
      "ada                    AdaBoost Regressor  166.8532  236584.9896  479.5842   \n",
      "dt                Decision Tree Regressor  116.5700  263180.1636  500.0485   \n",
      "\n",
      "              R2   RMSLE    MAPE  TT (Sec)  \n",
      "en        0.1202  0.6864  0.6214     0.076  \n",
      "lasso     0.1196  0.6936  0.6269     0.076  \n",
      "llar      0.1196  0.6937  0.6269     0.072  \n",
      "br        0.1191  0.6963  0.6293     0.077  \n",
      "lr        0.1184  0.7038  0.6327     1.377  \n",
      "ridge     0.1184  0.7037  0.6327     0.075  \n",
      "lar       0.1184  0.7037  0.6328     0.077  \n",
      "huber     0.1026  0.5547  0.4264     0.187  \n",
      "lightgbm  0.0765  0.5723  0.5381     0.252  \n",
      "omp       0.0568  0.6670  0.7217     0.073  \n",
      "gbr      -0.0007  0.5552  0.5360     0.523  \n",
      "dummy    -0.0013  0.8306  1.0657     0.100  \n",
      "par      -0.0717  0.9289  1.2320     0.081  \n",
      "knn      -0.1674  0.6089  0.5897     0.098  \n",
      "rf       -0.2327  0.5708  0.5607     1.048  \n",
      "et       -0.4139  0.5838  0.5603     0.960  \n",
      "ada      -1.2081  0.8646  1.4212     0.171  \n",
      "dt       -1.5152  0.6349  0.6475     0.080  \n"
     ]
    }
   ],
   "source": [
    "results = pull()\n",
    "print(results)"
   ]
  },
  {
   "cell_type": "code",
   "execution_count": 7,
   "metadata": {},
   "outputs": [
    {
     "data": {
      "text/html": [
       "<div>\n",
       "<style scoped>\n",
       "    .dataframe tbody tr th:only-of-type {\n",
       "        vertical-align: middle;\n",
       "    }\n",
       "\n",
       "    .dataframe tbody tr th {\n",
       "        vertical-align: top;\n",
       "    }\n",
       "\n",
       "    .dataframe thead th {\n",
       "        text-align: right;\n",
       "    }\n",
       "</style>\n",
       "<table border=\"1\" class=\"dataframe\">\n",
       "  <thead>\n",
       "    <tr style=\"text-align: right;\">\n",
       "      <th></th>\n",
       "      <th></th>\n",
       "      <th></th>\n",
       "    </tr>\n",
       "    <tr>\n",
       "      <th></th>\n",
       "      <th></th>\n",
       "      <th></th>\n",
       "    </tr>\n",
       "  </thead>\n",
       "  <tbody>\n",
       "    <tr>\n",
       "      <th>Initiated</th>\n",
       "      <td>. . . . . . . . . . . . . . . . . .</td>\n",
       "      <td>21:55:54</td>\n",
       "    </tr>\n",
       "    <tr>\n",
       "      <th>Status</th>\n",
       "      <td>. . . . . . . . . . . . . . . . . .</td>\n",
       "      <td>Fitting 10 Folds</td>\n",
       "    </tr>\n",
       "    <tr>\n",
       "      <th>Estimator</th>\n",
       "      <td>. . . . . . . . . . . . . . . . . .</td>\n",
       "      <td>Huber Regressor</td>\n",
       "    </tr>\n",
       "  </tbody>\n",
       "</table>\n",
       "</div>"
      ],
      "text/plain": [
       "                                                                \n",
       "                                                                \n",
       "Initiated  . . . . . . . . . . . . . . . . . .          21:55:54\n",
       "Status     . . . . . . . . . . . . . . . . . .  Fitting 10 Folds\n",
       "Estimator  . . . . . . . . . . . . . . . . . .   Huber Regressor"
      ]
     },
     "metadata": {},
     "output_type": "display_data"
    },
    {
     "data": {
      "text/html": [
       "<style type=\"text/css\">\n",
       "#T_634b6_row10_col0, #T_634b6_row10_col1, #T_634b6_row10_col2, #T_634b6_row10_col3, #T_634b6_row10_col4, #T_634b6_row10_col5 {\n",
       "  background: yellow;\n",
       "}\n",
       "</style>\n",
       "<table id=\"T_634b6\">\n",
       "  <thead>\n",
       "    <tr>\n",
       "      <th class=\"blank level0\" >&nbsp;</th>\n",
       "      <th id=\"T_634b6_level0_col0\" class=\"col_heading level0 col0\" >MAE</th>\n",
       "      <th id=\"T_634b6_level0_col1\" class=\"col_heading level0 col1\" >MSE</th>\n",
       "      <th id=\"T_634b6_level0_col2\" class=\"col_heading level0 col2\" >RMSE</th>\n",
       "      <th id=\"T_634b6_level0_col3\" class=\"col_heading level0 col3\" >R2</th>\n",
       "      <th id=\"T_634b6_level0_col4\" class=\"col_heading level0 col4\" >RMSLE</th>\n",
       "      <th id=\"T_634b6_level0_col5\" class=\"col_heading level0 col5\" >MAPE</th>\n",
       "    </tr>\n",
       "    <tr>\n",
       "      <th class=\"index_name level0\" >Fold</th>\n",
       "      <th class=\"blank col0\" >&nbsp;</th>\n",
       "      <th class=\"blank col1\" >&nbsp;</th>\n",
       "      <th class=\"blank col2\" >&nbsp;</th>\n",
       "      <th class=\"blank col3\" >&nbsp;</th>\n",
       "      <th class=\"blank col4\" >&nbsp;</th>\n",
       "      <th class=\"blank col5\" >&nbsp;</th>\n",
       "    </tr>\n",
       "  </thead>\n",
       "  <tbody>\n",
       "    <tr>\n",
       "      <th id=\"T_634b6_level0_row0\" class=\"row_heading level0 row0\" >0</th>\n",
       "      <td id=\"T_634b6_row0_col0\" class=\"data row0 col0\" >43.0241</td>\n",
       "      <td id=\"T_634b6_row0_col1\" class=\"data row0 col1\" >6164.7564</td>\n",
       "      <td id=\"T_634b6_row0_col2\" class=\"data row0 col2\" >78.5160</td>\n",
       "      <td id=\"T_634b6_row0_col3\" class=\"data row0 col3\" >0.2516</td>\n",
       "      <td id=\"T_634b6_row0_col4\" class=\"data row0 col4\" >0.3726</td>\n",
       "      <td id=\"T_634b6_row0_col5\" class=\"data row0 col5\" >0.2828</td>\n",
       "    </tr>\n",
       "    <tr>\n",
       "      <th id=\"T_634b6_level0_row1\" class=\"row_heading level0 row1\" >1</th>\n",
       "      <td id=\"T_634b6_row1_col0\" class=\"data row1 col0\" >49.8226</td>\n",
       "      <td id=\"T_634b6_row1_col1\" class=\"data row1 col1\" >29577.2853</td>\n",
       "      <td id=\"T_634b6_row1_col2\" class=\"data row1 col2\" >171.9805</td>\n",
       "      <td id=\"T_634b6_row1_col3\" class=\"data row1 col3\" >0.1069</td>\n",
       "      <td id=\"T_634b6_row1_col4\" class=\"data row1 col4\" >0.4001</td>\n",
       "      <td id=\"T_634b6_row1_col5\" class=\"data row1 col5\" >0.2979</td>\n",
       "    </tr>\n",
       "    <tr>\n",
       "      <th id=\"T_634b6_level0_row2\" class=\"row_heading level0 row2\" >2</th>\n",
       "      <td id=\"T_634b6_row2_col0\" class=\"data row2 col0\" >42.2589</td>\n",
       "      <td id=\"T_634b6_row2_col1\" class=\"data row2 col1\" >7066.9179</td>\n",
       "      <td id=\"T_634b6_row2_col2\" class=\"data row2 col2\" >84.0650</td>\n",
       "      <td id=\"T_634b6_row2_col3\" class=\"data row2 col3\" >0.3177</td>\n",
       "      <td id=\"T_634b6_row2_col4\" class=\"data row2 col4\" >0.3548</td>\n",
       "      <td id=\"T_634b6_row2_col5\" class=\"data row2 col5\" >0.2759</td>\n",
       "    </tr>\n",
       "    <tr>\n",
       "      <th id=\"T_634b6_level0_row3\" class=\"row_heading level0 row3\" >3</th>\n",
       "      <td id=\"T_634b6_row3_col0\" class=\"data row3 col0\" >51.4728</td>\n",
       "      <td id=\"T_634b6_row3_col1\" class=\"data row3 col1\" >55570.0420</td>\n",
       "      <td id=\"T_634b6_row3_col2\" class=\"data row3 col2\" >235.7330</td>\n",
       "      <td id=\"T_634b6_row3_col3\" class=\"data row3 col3\" >0.0588</td>\n",
       "      <td id=\"T_634b6_row3_col4\" class=\"data row3 col4\" >0.3833</td>\n",
       "      <td id=\"T_634b6_row3_col5\" class=\"data row3 col5\" >0.2926</td>\n",
       "    </tr>\n",
       "    <tr>\n",
       "      <th id=\"T_634b6_level0_row4\" class=\"row_heading level0 row4\" >4</th>\n",
       "      <td id=\"T_634b6_row4_col0\" class=\"data row4 col0\" >50.1103</td>\n",
       "      <td id=\"T_634b6_row4_col1\" class=\"data row4 col1\" >56781.4166</td>\n",
       "      <td id=\"T_634b6_row4_col2\" class=\"data row4 col2\" >238.2885</td>\n",
       "      <td id=\"T_634b6_row4_col3\" class=\"data row4 col3\" >0.0495</td>\n",
       "      <td id=\"T_634b6_row4_col4\" class=\"data row4 col4\" >0.3855</td>\n",
       "      <td id=\"T_634b6_row4_col5\" class=\"data row4 col5\" >0.2922</td>\n",
       "    </tr>\n",
       "    <tr>\n",
       "      <th id=\"T_634b6_level0_row5\" class=\"row_heading level0 row5\" >5</th>\n",
       "      <td id=\"T_634b6_row5_col0\" class=\"data row5 col0\" >43.0297</td>\n",
       "      <td id=\"T_634b6_row5_col1\" class=\"data row5 col1\" >7110.0076</td>\n",
       "      <td id=\"T_634b6_row5_col2\" class=\"data row5 col2\" >84.3209</td>\n",
       "      <td id=\"T_634b6_row5_col3\" class=\"data row5 col3\" >0.2839</td>\n",
       "      <td id=\"T_634b6_row5_col4\" class=\"data row5 col4\" >0.3670</td>\n",
       "      <td id=\"T_634b6_row5_col5\" class=\"data row5 col5\" >0.2856</td>\n",
       "    </tr>\n",
       "    <tr>\n",
       "      <th id=\"T_634b6_level0_row6\" class=\"row_heading level0 row6\" >6</th>\n",
       "      <td id=\"T_634b6_row6_col0\" class=\"data row6 col0\" >52.7802</td>\n",
       "      <td id=\"T_634b6_row6_col1\" class=\"data row6 col1\" >22214.0349</td>\n",
       "      <td id=\"T_634b6_row6_col2\" class=\"data row6 col2\" >149.0437</td>\n",
       "      <td id=\"T_634b6_row6_col3\" class=\"data row6 col3\" >0.1450</td>\n",
       "      <td id=\"T_634b6_row6_col4\" class=\"data row6 col4\" >0.4048</td>\n",
       "      <td id=\"T_634b6_row6_col5\" class=\"data row6 col5\" >0.2918</td>\n",
       "    </tr>\n",
       "    <tr>\n",
       "      <th id=\"T_634b6_level0_row7\" class=\"row_heading level0 row7\" >7</th>\n",
       "      <td id=\"T_634b6_row7_col0\" class=\"data row7 col0\" >42.0218</td>\n",
       "      <td id=\"T_634b6_row7_col1\" class=\"data row7 col1\" >4663.2762</td>\n",
       "      <td id=\"T_634b6_row7_col2\" class=\"data row7 col2\" >68.2882</td>\n",
       "      <td id=\"T_634b6_row7_col3\" class=\"data row7 col3\" >0.3512</td>\n",
       "      <td id=\"T_634b6_row7_col4\" class=\"data row7 col4\" >0.3574</td>\n",
       "      <td id=\"T_634b6_row7_col5\" class=\"data row7 col5\" >0.2804</td>\n",
       "    </tr>\n",
       "    <tr>\n",
       "      <th id=\"T_634b6_level0_row8\" class=\"row_heading level0 row8\" >8</th>\n",
       "      <td id=\"T_634b6_row8_col0\" class=\"data row8 col0\" >46.0265</td>\n",
       "      <td id=\"T_634b6_row8_col1\" class=\"data row8 col1\" >8968.5901</td>\n",
       "      <td id=\"T_634b6_row8_col2\" class=\"data row8 col2\" >94.7026</td>\n",
       "      <td id=\"T_634b6_row8_col3\" class=\"data row8 col3\" >0.3058</td>\n",
       "      <td id=\"T_634b6_row8_col4\" class=\"data row8 col4\" >0.3785</td>\n",
       "      <td id=\"T_634b6_row8_col5\" class=\"data row8 col5\" >0.3027</td>\n",
       "    </tr>\n",
       "    <tr>\n",
       "      <th id=\"T_634b6_level0_row9\" class=\"row_heading level0 row9\" >9</th>\n",
       "      <td id=\"T_634b6_row9_col0\" class=\"data row9 col0\" >49.4928</td>\n",
       "      <td id=\"T_634b6_row9_col1\" class=\"data row9 col1\" >26451.2675</td>\n",
       "      <td id=\"T_634b6_row9_col2\" class=\"data row9 col2\" >162.6385</td>\n",
       "      <td id=\"T_634b6_row9_col3\" class=\"data row9 col3\" >0.0892</td>\n",
       "      <td id=\"T_634b6_row9_col4\" class=\"data row9 col4\" >0.4031</td>\n",
       "      <td id=\"T_634b6_row9_col5\" class=\"data row9 col5\" >0.3213</td>\n",
       "    </tr>\n",
       "    <tr>\n",
       "      <th id=\"T_634b6_level0_row10\" class=\"row_heading level0 row10\" >Mean</th>\n",
       "      <td id=\"T_634b6_row10_col0\" class=\"data row10 col0\" >47.0040</td>\n",
       "      <td id=\"T_634b6_row10_col1\" class=\"data row10 col1\" >22456.7594</td>\n",
       "      <td id=\"T_634b6_row10_col2\" class=\"data row10 col2\" >136.7577</td>\n",
       "      <td id=\"T_634b6_row10_col3\" class=\"data row10 col3\" >0.1960</td>\n",
       "      <td id=\"T_634b6_row10_col4\" class=\"data row10 col4\" >0.3807</td>\n",
       "      <td id=\"T_634b6_row10_col5\" class=\"data row10 col5\" >0.2923</td>\n",
       "    </tr>\n",
       "    <tr>\n",
       "      <th id=\"T_634b6_level0_row11\" class=\"row_heading level0 row11\" >Std</th>\n",
       "      <td id=\"T_634b6_row11_col0\" class=\"data row11 col0\" >3.9630</td>\n",
       "      <td id=\"T_634b6_row11_col1\" class=\"data row11 col1\" >18914.8793</td>\n",
       "      <td id=\"T_634b6_row11_col2\" class=\"data row11 col2\" >61.2707</td>\n",
       "      <td id=\"T_634b6_row11_col3\" class=\"data row11 col3\" >0.1114</td>\n",
       "      <td id=\"T_634b6_row11_col4\" class=\"data row11 col4\" >0.0172</td>\n",
       "      <td id=\"T_634b6_row11_col5\" class=\"data row11 col5\" >0.0124</td>\n",
       "    </tr>\n",
       "  </tbody>\n",
       "</table>\n"
      ],
      "text/plain": [
       "<pandas.io.formats.style.Styler at 0x189ead22fb0>"
      ]
     },
     "metadata": {},
     "output_type": "display_data"
    },
    {
     "data": {
      "text/html": [],
      "text/plain": [
       "<IPython.core.display.HTML object>"
      ]
     },
     "metadata": {},
     "output_type": "display_data"
    }
   ],
   "source": [
    "huber = create_model('huber')"
   ]
  },
  {
   "cell_type": "code",
   "execution_count": 8,
   "metadata": {},
   "outputs": [
    {
     "data": {
      "text/html": [],
      "text/plain": [
       "<IPython.core.display.HTML object>"
      ]
     },
     "metadata": {},
     "output_type": "display_data"
    },
    {
     "data": {
      "text/html": [
       "<style type=\"text/css\">\n",
       "#T_1c488_row10_col0, #T_1c488_row10_col1, #T_1c488_row10_col2, #T_1c488_row10_col3, #T_1c488_row10_col4, #T_1c488_row10_col5 {\n",
       "  background: yellow;\n",
       "}\n",
       "</style>\n",
       "<table id=\"T_1c488\">\n",
       "  <thead>\n",
       "    <tr>\n",
       "      <th class=\"blank level0\" >&nbsp;</th>\n",
       "      <th id=\"T_1c488_level0_col0\" class=\"col_heading level0 col0\" >MAE</th>\n",
       "      <th id=\"T_1c488_level0_col1\" class=\"col_heading level0 col1\" >MSE</th>\n",
       "      <th id=\"T_1c488_level0_col2\" class=\"col_heading level0 col2\" >RMSE</th>\n",
       "      <th id=\"T_1c488_level0_col3\" class=\"col_heading level0 col3\" >R2</th>\n",
       "      <th id=\"T_1c488_level0_col4\" class=\"col_heading level0 col4\" >RMSLE</th>\n",
       "      <th id=\"T_1c488_level0_col5\" class=\"col_heading level0 col5\" >MAPE</th>\n",
       "    </tr>\n",
       "    <tr>\n",
       "      <th class=\"index_name level0\" >Fold</th>\n",
       "      <th class=\"blank col0\" >&nbsp;</th>\n",
       "      <th class=\"blank col1\" >&nbsp;</th>\n",
       "      <th class=\"blank col2\" >&nbsp;</th>\n",
       "      <th class=\"blank col3\" >&nbsp;</th>\n",
       "      <th class=\"blank col4\" >&nbsp;</th>\n",
       "      <th class=\"blank col5\" >&nbsp;</th>\n",
       "    </tr>\n",
       "  </thead>\n",
       "  <tbody>\n",
       "    <tr>\n",
       "      <th id=\"T_1c488_level0_row0\" class=\"row_heading level0 row0\" >0</th>\n",
       "      <td id=\"T_1c488_row0_col0\" class=\"data row0 col0\" >43.5349</td>\n",
       "      <td id=\"T_1c488_row0_col1\" class=\"data row0 col1\" >5978.6918</td>\n",
       "      <td id=\"T_1c488_row0_col2\" class=\"data row0 col2\" >77.3220</td>\n",
       "      <td id=\"T_1c488_row0_col3\" class=\"data row0 col3\" >0.2742</td>\n",
       "      <td id=\"T_1c488_row0_col4\" class=\"data row0 col4\" >0.3746</td>\n",
       "      <td id=\"T_1c488_row0_col5\" class=\"data row0 col5\" >0.2964</td>\n",
       "    </tr>\n",
       "    <tr>\n",
       "      <th id=\"T_1c488_level0_row1\" class=\"row_heading level0 row1\" >1</th>\n",
       "      <td id=\"T_1c488_row1_col0\" class=\"data row1 col0\" >50.2733</td>\n",
       "      <td id=\"T_1c488_row1_col1\" class=\"data row1 col1\" >29389.7326</td>\n",
       "      <td id=\"T_1c488_row1_col2\" class=\"data row1 col2\" >171.4343</td>\n",
       "      <td id=\"T_1c488_row1_col3\" class=\"data row1 col3\" >0.1125</td>\n",
       "      <td id=\"T_1c488_row1_col4\" class=\"data row1 col4\" >0.4020</td>\n",
       "      <td id=\"T_1c488_row1_col5\" class=\"data row1 col5\" >0.3102</td>\n",
       "    </tr>\n",
       "    <tr>\n",
       "      <th id=\"T_1c488_level0_row2\" class=\"row_heading level0 row2\" >2</th>\n",
       "      <td id=\"T_1c488_row2_col0\" class=\"data row2 col0\" >43.2739</td>\n",
       "      <td id=\"T_1c488_row2_col1\" class=\"data row2 col1\" >7147.9883</td>\n",
       "      <td id=\"T_1c488_row2_col2\" class=\"data row2 col2\" >84.5458</td>\n",
       "      <td id=\"T_1c488_row2_col3\" class=\"data row2 col3\" >0.3099</td>\n",
       "      <td id=\"T_1c488_row2_col4\" class=\"data row2 col4\" >0.3618</td>\n",
       "      <td id=\"T_1c488_row2_col5\" class=\"data row2 col5\" >0.2916</td>\n",
       "    </tr>\n",
       "    <tr>\n",
       "      <th id=\"T_1c488_level0_row3\" class=\"row_heading level0 row3\" >3</th>\n",
       "      <td id=\"T_1c488_row3_col0\" class=\"data row3 col0\" >51.6952</td>\n",
       "      <td id=\"T_1c488_row3_col1\" class=\"data row3 col1\" >55399.3497</td>\n",
       "      <td id=\"T_1c488_row3_col2\" class=\"data row3 col2\" >235.3707</td>\n",
       "      <td id=\"T_1c488_row3_col3\" class=\"data row3 col3\" >0.0617</td>\n",
       "      <td id=\"T_1c488_row3_col4\" class=\"data row3 col4\" >0.3845</td>\n",
       "      <td id=\"T_1c488_row3_col5\" class=\"data row3 col5\" >0.3023</td>\n",
       "    </tr>\n",
       "    <tr>\n",
       "      <th id=\"T_1c488_level0_row4\" class=\"row_heading level0 row4\" >4</th>\n",
       "      <td id=\"T_1c488_row4_col0\" class=\"data row4 col0\" >50.5541</td>\n",
       "      <td id=\"T_1c488_row4_col1\" class=\"data row4 col1\" >56701.3157</td>\n",
       "      <td id=\"T_1c488_row4_col2\" class=\"data row4 col2\" >238.1204</td>\n",
       "      <td id=\"T_1c488_row4_col3\" class=\"data row4 col3\" >0.0508</td>\n",
       "      <td id=\"T_1c488_row4_col4\" class=\"data row4 col4\" >0.3877</td>\n",
       "      <td id=\"T_1c488_row4_col5\" class=\"data row4 col5\" >0.3048</td>\n",
       "    </tr>\n",
       "    <tr>\n",
       "      <th id=\"T_1c488_level0_row5\" class=\"row_heading level0 row5\" >5</th>\n",
       "      <td id=\"T_1c488_row5_col0\" class=\"data row5 col0\" >43.1305</td>\n",
       "      <td id=\"T_1c488_row5_col1\" class=\"data row5 col1\" >7069.9271</td>\n",
       "      <td id=\"T_1c488_row5_col2\" class=\"data row5 col2\" >84.0829</td>\n",
       "      <td id=\"T_1c488_row5_col3\" class=\"data row5 col3\" >0.2879</td>\n",
       "      <td id=\"T_1c488_row5_col4\" class=\"data row5 col4\" >0.3656</td>\n",
       "      <td id=\"T_1c488_row5_col5\" class=\"data row5 col5\" >0.2936</td>\n",
       "    </tr>\n",
       "    <tr>\n",
       "      <th id=\"T_1c488_level0_row6\" class=\"row_heading level0 row6\" >6</th>\n",
       "      <td id=\"T_1c488_row6_col0\" class=\"data row6 col0\" >52.9528</td>\n",
       "      <td id=\"T_1c488_row6_col1\" class=\"data row6 col1\" >22126.2283</td>\n",
       "      <td id=\"T_1c488_row6_col2\" class=\"data row6 col2\" >148.7489</td>\n",
       "      <td id=\"T_1c488_row6_col3\" class=\"data row6 col3\" >0.1484</td>\n",
       "      <td id=\"T_1c488_row6_col4\" class=\"data row6 col4\" >0.4032</td>\n",
       "      <td id=\"T_1c488_row6_col5\" class=\"data row6 col5\" >0.3015</td>\n",
       "    </tr>\n",
       "    <tr>\n",
       "      <th id=\"T_1c488_level0_row7\" class=\"row_heading level0 row7\" >7</th>\n",
       "      <td id=\"T_1c488_row7_col0\" class=\"data row7 col0\" >41.9346</td>\n",
       "      <td id=\"T_1c488_row7_col1\" class=\"data row7 col1\" >4492.7338</td>\n",
       "      <td id=\"T_1c488_row7_col2\" class=\"data row7 col2\" >67.0279</td>\n",
       "      <td id=\"T_1c488_row7_col3\" class=\"data row7 col3\" >0.3749</td>\n",
       "      <td id=\"T_1c488_row7_col4\" class=\"data row7 col4\" >0.3551</td>\n",
       "      <td id=\"T_1c488_row7_col5\" class=\"data row7 col5\" >0.2880</td>\n",
       "    </tr>\n",
       "    <tr>\n",
       "      <th id=\"T_1c488_level0_row8\" class=\"row_heading level0 row8\" >8</th>\n",
       "      <td id=\"T_1c488_row8_col0\" class=\"data row8 col0\" >46.5349</td>\n",
       "      <td id=\"T_1c488_row8_col1\" class=\"data row8 col1\" >8862.3973</td>\n",
       "      <td id=\"T_1c488_row8_col2\" class=\"data row8 col2\" >94.1403</td>\n",
       "      <td id=\"T_1c488_row8_col3\" class=\"data row8 col3\" >0.3141</td>\n",
       "      <td id=\"T_1c488_row8_col4\" class=\"data row8 col4\" >0.3819</td>\n",
       "      <td id=\"T_1c488_row8_col5\" class=\"data row8 col5\" >0.3150</td>\n",
       "    </tr>\n",
       "    <tr>\n",
       "      <th id=\"T_1c488_level0_row9\" class=\"row_heading level0 row9\" >9</th>\n",
       "      <td id=\"T_1c488_row9_col0\" class=\"data row9 col0\" >49.9221</td>\n",
       "      <td id=\"T_1c488_row9_col1\" class=\"data row9 col1\" >26315.2447</td>\n",
       "      <td id=\"T_1c488_row9_col2\" class=\"data row9 col2\" >162.2197</td>\n",
       "      <td id=\"T_1c488_row9_col3\" class=\"data row9 col3\" >0.0939</td>\n",
       "      <td id=\"T_1c488_row9_col4\" class=\"data row9 col4\" >0.4058</td>\n",
       "      <td id=\"T_1c488_row9_col5\" class=\"data row9 col5\" >0.3335</td>\n",
       "    </tr>\n",
       "    <tr>\n",
       "      <th id=\"T_1c488_level0_row10\" class=\"row_heading level0 row10\" >Mean</th>\n",
       "      <td id=\"T_1c488_row10_col0\" class=\"data row10 col0\" >47.3806</td>\n",
       "      <td id=\"T_1c488_row10_col1\" class=\"data row10 col1\" >22348.3609</td>\n",
       "      <td id=\"T_1c488_row10_col2\" class=\"data row10 col2\" >136.3013</td>\n",
       "      <td id=\"T_1c488_row10_col3\" class=\"data row10 col3\" >0.2028</td>\n",
       "      <td id=\"T_1c488_row10_col4\" class=\"data row10 col4\" >0.3822</td>\n",
       "      <td id=\"T_1c488_row10_col5\" class=\"data row10 col5\" >0.3037</td>\n",
       "    </tr>\n",
       "    <tr>\n",
       "      <th id=\"T_1c488_level0_row11\" class=\"row_heading level0 row11\" >Std</th>\n",
       "      <td id=\"T_1c488_row11_col0\" class=\"data row11 col0\" >3.9326</td>\n",
       "      <td id=\"T_1c488_row11_col1\" class=\"data row11 col1\" >18897.0960</td>\n",
       "      <td id=\"T_1c488_row11_col2\" class=\"data row11 col2\" >61.4029</td>\n",
       "      <td id=\"T_1c488_row11_col3\" class=\"data row11 col3\" >0.1148</td>\n",
       "      <td id=\"T_1c488_row11_col4\" class=\"data row11 col4\" >0.0171</td>\n",
       "      <td id=\"T_1c488_row11_col5\" class=\"data row11 col5\" >0.0127</td>\n",
       "    </tr>\n",
       "  </tbody>\n",
       "</table>\n"
      ],
      "text/plain": [
       "<pandas.io.formats.style.Styler at 0x189ead17e20>"
      ]
     },
     "metadata": {},
     "output_type": "display_data"
    },
    {
     "data": {
      "application/vnd.jupyter.widget-view+json": {
       "model_id": "94b2046f9c484641863149d1a28b8f0e",
       "version_major": 2,
       "version_minor": 0
      },
      "text/plain": [
       "Processing:   0%|          | 0/7 [00:00<?, ?it/s]"
      ]
     },
     "metadata": {},
     "output_type": "display_data"
    },
    {
     "name": "stdout",
     "output_type": "stream",
     "text": [
      "Fitting 10 folds for each of 10 candidates, totalling 100 fits\n"
     ]
    }
   ],
   "source": [
    "huber=  tune_model(huber)"
   ]
  },
  {
   "cell_type": "code",
   "execution_count": 9,
   "metadata": {},
   "outputs": [
    {
     "data": {
      "application/vnd.jupyter.widget-view+json": {
       "model_id": "c044ebf45e904ef693cd28f6c718b141",
       "version_major": 2,
       "version_minor": 0
      },
      "text/plain": [
       "interactive(children=(ToggleButtons(description='Plot Type:', icons=('',), options=(('Pipeline Plot', 'pipelin…"
      ]
     },
     "metadata": {},
     "output_type": "display_data"
    }
   ],
   "source": [
    "evaluate_model(huber)"
   ]
  },
  {
   "cell_type": "code",
   "execution_count": 10,
   "metadata": {},
   "outputs": [],
   "source": [
    "final_best = finalize_model(huber)"
   ]
  },
  {
   "cell_type": "code",
   "execution_count": 11,
   "metadata": {},
   "outputs": [
    {
     "name": "stdout",
     "output_type": "stream",
     "text": [
      "Transformation Pipeline and Model Successfully Saved\n"
     ]
    },
    {
     "data": {
      "text/plain": [
       "(Pipeline(memory=Memory(location=None),\n",
       "          steps=[('numerical_imputer',\n",
       "                  TransformerWrapper(include=['accommodates', 'minimum_nights',\n",
       "                                              'maximum_nights'],\n",
       "                                     transformer=SimpleImputer())),\n",
       "                 ('categorical_imputer',\n",
       "                  TransformerWrapper(include=['neighbourhood', 'property_type',\n",
       "                                              'room_type'],\n",
       "                                     transformer=SimpleImputer(strategy='most_frequent'))),\n",
       "                 ('onehot_encoding',\n",
       "                  Transfo...r(include=['neighbourhood', 'room_type'],\n",
       "                                     transformer=OneHotEncoder(cols=['neighbourhood',\n",
       "                                                                     'room_type'],\n",
       "                                                               handle_missing='return_nan',\n",
       "                                                               use_cat_names=True))),\n",
       "                 ('rest_encoding',\n",
       "                  TransformerWrapper(include=['property_type'],\n",
       "                                     transformer=TargetEncoder(cols=['property_type'],\n",
       "                                                               handle_missing='return_nan'))),\n",
       "                 ('trained_model', HuberRegressor(alpha=0.3, epsilon=1.9))]),\n",
       " 'ml_airbnb.pkl')"
      ]
     },
     "execution_count": 11,
     "metadata": {},
     "output_type": "execute_result"
    }
   ],
   "source": [
    "save_model(huber, 'ml_airbnb') #se guarda un archivo que es el modelo y ese archivo se usa para hacer predicciones "
   ]
  }
 ],
 "metadata": {
  "kernelspec": {
   "display_name": "ent10",
   "language": "python",
   "name": "python3"
  },
  "language_info": {
   "codemirror_mode": {
    "name": "ipython",
    "version": 3
   },
   "file_extension": ".py",
   "mimetype": "text/x-python",
   "name": "python",
   "nbconvert_exporter": "python",
   "pygments_lexer": "ipython3",
   "version": "3.10.0"
  }
 },
 "nbformat": 4,
 "nbformat_minor": 2
}
