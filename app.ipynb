{
 "cells": [
  {
   "cell_type": "code",
   "execution_count": 1,
   "metadata": {},
   "outputs": [],
   "source": [
    "import pandas as pd \n",
    "df = pd.read_csv('listings_toronto.csv', sep =';')"
   ]
  },
  {
   "cell_type": "code",
   "execution_count": 22,
   "metadata": {},
   "outputs": [
    {
     "data": {
      "text/plain": [
       "array(['Entire home/apt', 'Private room', 'Shared room', 'Hotel room'],\n",
       "      dtype=object)"
      ]
     },
     "execution_count": 22,
     "metadata": {},
     "output_type": "execute_result"
    }
   ],
   "source": [
    "df['room_type'].unique()"
   ]
  },
  {
   "cell_type": "code",
   "execution_count": 2,
   "metadata": {},
   "outputs": [
    {
     "data": {
      "text/plain": [
       "Index(['id', 'name', 'host_id', 'host_name', 'neighbourhood', 'latitude',\n",
       "       'longitude', 'room_type', 'price', 'minimum_nights',\n",
       "       'number_of_reviews', 'last_review', 'reviews_per_month',\n",
       "       'calculated_host_listings_count', 'availability_365',\n",
       "       'number_of_reviews_ltm', 'listing_url', 'scrape_id', 'last_scraped',\n",
       "       'source', 'description', 'neighborhood_overview', 'picture_url',\n",
       "       'host_url', 'host_since', 'host_location', 'host_response_time',\n",
       "       'host_response_rate', 'host_acceptance_rate', 'host_is_superhost',\n",
       "       'host_thumbnail_url', 'host_picture_url', 'host_listings_count',\n",
       "       'host_total_listings_count', 'host_verifications',\n",
       "       'host_has_profile_pic', 'host_identity_verified',\n",
       "       'neighbourhood_cleansed', 'property_type', 'accommodates',\n",
       "       'bathrooms_text', 'bedrooms', 'beds', 'amenities', 'maximum_nights',\n",
       "       'minimum_minimum_nights', 'maximum_minimum_nights',\n",
       "       'minimum_maximum_nights', 'maximum_maximum_nights',\n",
       "       'minimum_nights_avg_ntm', 'maximum_nights_avg_ntm', 'has_availability',\n",
       "       'availability_30', 'availability_60', 'availability_90',\n",
       "       'calendar_last_scraped', 'number_of_reviews_l30d', 'first_review',\n",
       "       'review_scores_rating', 'review_scores_accuracy',\n",
       "       'review_scores_cleanliness', 'review_scores_checkin',\n",
       "       'review_scores_communication', 'review_scores_location',\n",
       "       'review_scores_value', 'instant_bookable',\n",
       "       'calculated_host_listings_count_entire_homes',\n",
       "       'calculated_host_listings_count_private_rooms',\n",
       "       'calculated_host_listings_count_shared_rooms'],\n",
       "      dtype='object')"
      ]
     },
     "execution_count": 2,
     "metadata": {},
     "output_type": "execute_result"
    }
   ],
   "source": [
    "df.columns"
   ]
  },
  {
   "cell_type": "code",
   "execution_count": 3,
   "metadata": {},
   "outputs": [
    {
     "data": {
      "text/plain": [
       "array(['Entire home/apt', 'Private room', 'Shared room', 'Hotel room'],\n",
       "      dtype=object)"
      ]
     },
     "execution_count": 3,
     "metadata": {},
     "output_type": "execute_result"
    }
   ],
   "source": [
    "df['room_type'].unique()"
   ]
  },
  {
   "cell_type": "code",
   "execution_count": 4,
   "metadata": {},
   "outputs": [],
   "source": [
    "from pycaret.regression import *"
   ]
  },
  {
   "cell_type": "code",
   "execution_count": 5,
   "metadata": {},
   "outputs": [
    {
     "data": {
      "text/plain": [
       "Index(['id', 'name', 'host_id', 'host_name', 'neighbourhood', 'latitude',\n",
       "       'longitude', 'room_type', 'price', 'minimum_nights',\n",
       "       'number_of_reviews', 'last_review', 'reviews_per_month',\n",
       "       'calculated_host_listings_count', 'availability_365',\n",
       "       'number_of_reviews_ltm', 'listing_url', 'scrape_id', 'last_scraped',\n",
       "       'source', 'description', 'neighborhood_overview', 'picture_url',\n",
       "       'host_url', 'host_since', 'host_location', 'host_response_time',\n",
       "       'host_response_rate', 'host_acceptance_rate', 'host_is_superhost',\n",
       "       'host_thumbnail_url', 'host_picture_url', 'host_listings_count',\n",
       "       'host_total_listings_count', 'host_verifications',\n",
       "       'host_has_profile_pic', 'host_identity_verified',\n",
       "       'neighbourhood_cleansed', 'property_type', 'accommodates',\n",
       "       'bathrooms_text', 'bedrooms', 'beds', 'amenities', 'maximum_nights',\n",
       "       'minimum_minimum_nights', 'maximum_minimum_nights',\n",
       "       'minimum_maximum_nights', 'maximum_maximum_nights',\n",
       "       'minimum_nights_avg_ntm', 'maximum_nights_avg_ntm', 'has_availability',\n",
       "       'availability_30', 'availability_60', 'availability_90',\n",
       "       'calendar_last_scraped', 'number_of_reviews_l30d', 'first_review',\n",
       "       'review_scores_rating', 'review_scores_accuracy',\n",
       "       'review_scores_cleanliness', 'review_scores_checkin',\n",
       "       'review_scores_communication', 'review_scores_location',\n",
       "       'review_scores_value', 'instant_bookable',\n",
       "       'calculated_host_listings_count_entire_homes',\n",
       "       'calculated_host_listings_count_private_rooms',\n",
       "       'calculated_host_listings_count_shared_rooms'],\n",
       "      dtype='object')"
      ]
     },
     "execution_count": 5,
     "metadata": {},
     "output_type": "execute_result"
    }
   ],
   "source": [
    "df.columns"
   ]
  },
  {
   "cell_type": "code",
   "execution_count": 6,
   "metadata": {},
   "outputs": [],
   "source": [
    "df_pred = df.copy ()\n",
    "df_pred_new = df_pred[[\"neighbourhood\",\"accommodates\", \"property_type\", \"room_type\", \"price\", \"minimum_nights\", \"maximum_nights\"]]"
   ]
  },
  {
   "cell_type": "code",
   "execution_count": 7,
   "metadata": {},
   "outputs": [
    {
     "data": {
      "text/html": [
       "<style type=\"text/css\">\n",
       "#T_e883e_row9_col1 {\n",
       "  background-color: lightgreen;\n",
       "}\n",
       "</style>\n",
       "<table id=\"T_e883e\">\n",
       "  <thead>\n",
       "    <tr>\n",
       "      <th class=\"blank level0\" >&nbsp;</th>\n",
       "      <th id=\"T_e883e_level0_col0\" class=\"col_heading level0 col0\" >Description</th>\n",
       "      <th id=\"T_e883e_level0_col1\" class=\"col_heading level0 col1\" >Value</th>\n",
       "    </tr>\n",
       "  </thead>\n",
       "  <tbody>\n",
       "    <tr>\n",
       "      <th id=\"T_e883e_level0_row0\" class=\"row_heading level0 row0\" >0</th>\n",
       "      <td id=\"T_e883e_row0_col0\" class=\"data row0 col0\" >Session id</td>\n",
       "      <td id=\"T_e883e_row0_col1\" class=\"data row0 col1\" >1681</td>\n",
       "    </tr>\n",
       "    <tr>\n",
       "      <th id=\"T_e883e_level0_row1\" class=\"row_heading level0 row1\" >1</th>\n",
       "      <td id=\"T_e883e_row1_col0\" class=\"data row1 col0\" >Target</td>\n",
       "      <td id=\"T_e883e_row1_col1\" class=\"data row1 col1\" >price</td>\n",
       "    </tr>\n",
       "    <tr>\n",
       "      <th id=\"T_e883e_level0_row2\" class=\"row_heading level0 row2\" >2</th>\n",
       "      <td id=\"T_e883e_row2_col0\" class=\"data row2 col0\" >Target type</td>\n",
       "      <td id=\"T_e883e_row2_col1\" class=\"data row2 col1\" >Regression</td>\n",
       "    </tr>\n",
       "    <tr>\n",
       "      <th id=\"T_e883e_level0_row3\" class=\"row_heading level0 row3\" >3</th>\n",
       "      <td id=\"T_e883e_row3_col0\" class=\"data row3 col0\" >Original data shape</td>\n",
       "      <td id=\"T_e883e_row3_col1\" class=\"data row3 col1\" >(19275, 7)</td>\n",
       "    </tr>\n",
       "    <tr>\n",
       "      <th id=\"T_e883e_level0_row4\" class=\"row_heading level0 row4\" >4</th>\n",
       "      <td id=\"T_e883e_row4_col0\" class=\"data row4 col0\" >Transformed data shape</td>\n",
       "      <td id=\"T_e883e_row4_col1\" class=\"data row4 col1\" >(19275, 10)</td>\n",
       "    </tr>\n",
       "    <tr>\n",
       "      <th id=\"T_e883e_level0_row5\" class=\"row_heading level0 row5\" >5</th>\n",
       "      <td id=\"T_e883e_row5_col0\" class=\"data row5 col0\" >Transformed train set shape</td>\n",
       "      <td id=\"T_e883e_row5_col1\" class=\"data row5 col1\" >(13492, 10)</td>\n",
       "    </tr>\n",
       "    <tr>\n",
       "      <th id=\"T_e883e_level0_row6\" class=\"row_heading level0 row6\" >6</th>\n",
       "      <td id=\"T_e883e_row6_col0\" class=\"data row6 col0\" >Transformed test set shape</td>\n",
       "      <td id=\"T_e883e_row6_col1\" class=\"data row6 col1\" >(5783, 10)</td>\n",
       "    </tr>\n",
       "    <tr>\n",
       "      <th id=\"T_e883e_level0_row7\" class=\"row_heading level0 row7\" >7</th>\n",
       "      <td id=\"T_e883e_row7_col0\" class=\"data row7 col0\" >Numeric features</td>\n",
       "      <td id=\"T_e883e_row7_col1\" class=\"data row7 col1\" >3</td>\n",
       "    </tr>\n",
       "    <tr>\n",
       "      <th id=\"T_e883e_level0_row8\" class=\"row_heading level0 row8\" >8</th>\n",
       "      <td id=\"T_e883e_row8_col0\" class=\"data row8 col0\" >Categorical features</td>\n",
       "      <td id=\"T_e883e_row8_col1\" class=\"data row8 col1\" >3</td>\n",
       "    </tr>\n",
       "    <tr>\n",
       "      <th id=\"T_e883e_level0_row9\" class=\"row_heading level0 row9\" >9</th>\n",
       "      <td id=\"T_e883e_row9_col0\" class=\"data row9 col0\" >Preprocess</td>\n",
       "      <td id=\"T_e883e_row9_col1\" class=\"data row9 col1\" >True</td>\n",
       "    </tr>\n",
       "    <tr>\n",
       "      <th id=\"T_e883e_level0_row10\" class=\"row_heading level0 row10\" >10</th>\n",
       "      <td id=\"T_e883e_row10_col0\" class=\"data row10 col0\" >Imputation type</td>\n",
       "      <td id=\"T_e883e_row10_col1\" class=\"data row10 col1\" >simple</td>\n",
       "    </tr>\n",
       "    <tr>\n",
       "      <th id=\"T_e883e_level0_row11\" class=\"row_heading level0 row11\" >11</th>\n",
       "      <td id=\"T_e883e_row11_col0\" class=\"data row11 col0\" >Numeric imputation</td>\n",
       "      <td id=\"T_e883e_row11_col1\" class=\"data row11 col1\" >mean</td>\n",
       "    </tr>\n",
       "    <tr>\n",
       "      <th id=\"T_e883e_level0_row12\" class=\"row_heading level0 row12\" >12</th>\n",
       "      <td id=\"T_e883e_row12_col0\" class=\"data row12 col0\" >Categorical imputation</td>\n",
       "      <td id=\"T_e883e_row12_col1\" class=\"data row12 col1\" >mode</td>\n",
       "    </tr>\n",
       "    <tr>\n",
       "      <th id=\"T_e883e_level0_row13\" class=\"row_heading level0 row13\" >13</th>\n",
       "      <td id=\"T_e883e_row13_col0\" class=\"data row13 col0\" >Maximum one-hot encoding</td>\n",
       "      <td id=\"T_e883e_row13_col1\" class=\"data row13 col1\" >25</td>\n",
       "    </tr>\n",
       "    <tr>\n",
       "      <th id=\"T_e883e_level0_row14\" class=\"row_heading level0 row14\" >14</th>\n",
       "      <td id=\"T_e883e_row14_col0\" class=\"data row14 col0\" >Encoding method</td>\n",
       "      <td id=\"T_e883e_row14_col1\" class=\"data row14 col1\" >None</td>\n",
       "    </tr>\n",
       "    <tr>\n",
       "      <th id=\"T_e883e_level0_row15\" class=\"row_heading level0 row15\" >15</th>\n",
       "      <td id=\"T_e883e_row15_col0\" class=\"data row15 col0\" >Fold Generator</td>\n",
       "      <td id=\"T_e883e_row15_col1\" class=\"data row15 col1\" >KFold</td>\n",
       "    </tr>\n",
       "    <tr>\n",
       "      <th id=\"T_e883e_level0_row16\" class=\"row_heading level0 row16\" >16</th>\n",
       "      <td id=\"T_e883e_row16_col0\" class=\"data row16 col0\" >Fold Number</td>\n",
       "      <td id=\"T_e883e_row16_col1\" class=\"data row16 col1\" >10</td>\n",
       "    </tr>\n",
       "    <tr>\n",
       "      <th id=\"T_e883e_level0_row17\" class=\"row_heading level0 row17\" >17</th>\n",
       "      <td id=\"T_e883e_row17_col0\" class=\"data row17 col0\" >CPU Jobs</td>\n",
       "      <td id=\"T_e883e_row17_col1\" class=\"data row17 col1\" >-1</td>\n",
       "    </tr>\n",
       "    <tr>\n",
       "      <th id=\"T_e883e_level0_row18\" class=\"row_heading level0 row18\" >18</th>\n",
       "      <td id=\"T_e883e_row18_col0\" class=\"data row18 col0\" >Use GPU</td>\n",
       "      <td id=\"T_e883e_row18_col1\" class=\"data row18 col1\" >False</td>\n",
       "    </tr>\n",
       "    <tr>\n",
       "      <th id=\"T_e883e_level0_row19\" class=\"row_heading level0 row19\" >19</th>\n",
       "      <td id=\"T_e883e_row19_col0\" class=\"data row19 col0\" >Log Experiment</td>\n",
       "      <td id=\"T_e883e_row19_col1\" class=\"data row19 col1\" >False</td>\n",
       "    </tr>\n",
       "    <tr>\n",
       "      <th id=\"T_e883e_level0_row20\" class=\"row_heading level0 row20\" >20</th>\n",
       "      <td id=\"T_e883e_row20_col0\" class=\"data row20 col0\" >Experiment Name</td>\n",
       "      <td id=\"T_e883e_row20_col1\" class=\"data row20 col1\" >reg-default-name</td>\n",
       "    </tr>\n",
       "    <tr>\n",
       "      <th id=\"T_e883e_level0_row21\" class=\"row_heading level0 row21\" >21</th>\n",
       "      <td id=\"T_e883e_row21_col0\" class=\"data row21 col0\" >USI</td>\n",
       "      <td id=\"T_e883e_row21_col1\" class=\"data row21 col1\" >9778</td>\n",
       "    </tr>\n",
       "  </tbody>\n",
       "</table>\n"
      ],
      "text/plain": [
       "<pandas.io.formats.style.Styler at 0x26d26dde800>"
      ]
     },
     "metadata": {},
     "output_type": "display_data"
    }
   ],
   "source": [
    "setup = setup(df_pred_new, target = 'price')"
   ]
  },
  {
   "cell_type": "code",
   "execution_count": 14,
   "metadata": {},
   "outputs": [
    {
     "data": {
      "text/html": [],
      "text/plain": [
       "<IPython.core.display.HTML object>"
      ]
     },
     "metadata": {},
     "output_type": "display_data"
    },
    {
     "data": {
      "text/html": [],
      "text/plain": [
       "<IPython.core.display.HTML object>"
      ]
     },
     "metadata": {},
     "output_type": "display_data"
    },
    {
     "data": {
      "text/html": [],
      "text/plain": [
       "<IPython.core.display.HTML object>"
      ]
     },
     "metadata": {},
     "output_type": "display_data"
    },
    {
     "name": "stdout",
     "output_type": "stream",
     "text": [
      "ElasticNet(random_state=1681)\n"
     ]
    }
   ],
   "source": [
    "best = compare_models()\n",
    "print(best)"
   ]
  },
  {
   "cell_type": "code",
   "execution_count": 11,
   "metadata": {},
   "outputs": [
    {
     "name": "stdout",
     "output_type": "stream",
     "text": [
      "                                    Model       MAE          MSE      RMSE  \\\n",
      "en                            Elastic Net   99.1961  124946.9714  333.1203   \n",
      "lasso                    Lasso Regression   99.8077  124898.4826  333.1333   \n",
      "llar         Lasso Least Angle Regression   99.8074  124898.4484  333.1332   \n",
      "br                         Bayesian Ridge  100.0189  124923.5102  333.1911   \n",
      "lr                      Linear Regression  100.3334  124968.2167  333.2912   \n",
      "ridge                    Ridge Regression  100.3313  124967.8924  333.2905   \n",
      "lar                Least Angle Regression  100.3392  124969.3545  333.2930   \n",
      "huber                     Huber Regressor   86.8399  127184.6235  336.2940   \n",
      "lightgbm  Light Gradient Boosting Machine   93.0220  127533.5512  338.7906   \n",
      "omp           Orthogonal Matching Pursuit  111.1050  130700.9160  342.7269   \n",
      "gbr           Gradient Boosting Regressor   92.4853  134406.4150  347.9917   \n",
      "dummy                     Dummy Regressor  128.7941  136372.5436  351.4298   \n",
      "par          Passive Aggressive Regressor  150.6116  143444.8733  361.2748   \n",
      "knn                 K Neighbors Regressor  102.2304  147603.6038  371.0967   \n",
      "rf                Random Forest Regressor   98.4948  149855.6679  375.2081   \n",
      "et                  Extra Trees Regressor  100.7679  162731.2799  392.0061   \n",
      "ada                    AdaBoost Regressor  166.8532  236584.9896  479.5842   \n",
      "dt                Decision Tree Regressor  116.5700  263180.1636  500.0485   \n",
      "\n",
      "              R2   RMSLE    MAPE  TT (Sec)  \n",
      "en        0.1202  0.6864  0.6214     0.076  \n",
      "lasso     0.1196  0.6936  0.6269     0.076  \n",
      "llar      0.1196  0.6937  0.6269     0.072  \n",
      "br        0.1191  0.6963  0.6293     0.077  \n",
      "lr        0.1184  0.7038  0.6327     1.377  \n",
      "ridge     0.1184  0.7037  0.6327     0.075  \n",
      "lar       0.1184  0.7037  0.6328     0.077  \n",
      "huber     0.1026  0.5547  0.4264     0.187  \n",
      "lightgbm  0.0765  0.5723  0.5381     0.252  \n",
      "omp       0.0568  0.6670  0.7217     0.073  \n",
      "gbr      -0.0007  0.5552  0.5360     0.523  \n",
      "dummy    -0.0013  0.8306  1.0657     0.100  \n",
      "par      -0.0717  0.9289  1.2320     0.081  \n",
      "knn      -0.1674  0.6089  0.5897     0.098  \n",
      "rf       -0.2327  0.5708  0.5607     1.048  \n",
      "et       -0.4139  0.5838  0.5603     0.960  \n",
      "ada      -1.2081  0.8646  1.4212     0.171  \n",
      "dt       -1.5152  0.6349  0.6475     0.080  \n"
     ]
    }
   ],
   "source": [
    "results = pull()\n",
    "print(results)"
   ]
  },
  {
   "cell_type": "code",
   "execution_count": 15,
   "metadata": {},
   "outputs": [
    {
     "data": {
      "text/html": [],
      "text/plain": [
       "<IPython.core.display.HTML object>"
      ]
     },
     "metadata": {},
     "output_type": "display_data"
    },
    {
     "data": {
      "text/html": [
       "<style type=\"text/css\">\n",
       "#T_112b2_row10_col0, #T_112b2_row10_col1, #T_112b2_row10_col2, #T_112b2_row10_col3, #T_112b2_row10_col4, #T_112b2_row10_col5 {\n",
       "  background: yellow;\n",
       "}\n",
       "</style>\n",
       "<table id=\"T_112b2\">\n",
       "  <thead>\n",
       "    <tr>\n",
       "      <th class=\"blank level0\" >&nbsp;</th>\n",
       "      <th id=\"T_112b2_level0_col0\" class=\"col_heading level0 col0\" >MAE</th>\n",
       "      <th id=\"T_112b2_level0_col1\" class=\"col_heading level0 col1\" >MSE</th>\n",
       "      <th id=\"T_112b2_level0_col2\" class=\"col_heading level0 col2\" >RMSE</th>\n",
       "      <th id=\"T_112b2_level0_col3\" class=\"col_heading level0 col3\" >R2</th>\n",
       "      <th id=\"T_112b2_level0_col4\" class=\"col_heading level0 col4\" >RMSLE</th>\n",
       "      <th id=\"T_112b2_level0_col5\" class=\"col_heading level0 col5\" >MAPE</th>\n",
       "    </tr>\n",
       "    <tr>\n",
       "      <th class=\"index_name level0\" >Fold</th>\n",
       "      <th class=\"blank col0\" >&nbsp;</th>\n",
       "      <th class=\"blank col1\" >&nbsp;</th>\n",
       "      <th class=\"blank col2\" >&nbsp;</th>\n",
       "      <th class=\"blank col3\" >&nbsp;</th>\n",
       "      <th class=\"blank col4\" >&nbsp;</th>\n",
       "      <th class=\"blank col5\" >&nbsp;</th>\n",
       "    </tr>\n",
       "  </thead>\n",
       "  <tbody>\n",
       "    <tr>\n",
       "      <th id=\"T_112b2_level0_row0\" class=\"row_heading level0 row0\" >0</th>\n",
       "      <td id=\"T_112b2_row0_col0\" class=\"data row0 col0\" >97.6332</td>\n",
       "      <td id=\"T_112b2_row0_col1\" class=\"data row0 col1\" >274883.6877</td>\n",
       "      <td id=\"T_112b2_row0_col2\" class=\"data row0 col2\" >524.2935</td>\n",
       "      <td id=\"T_112b2_row0_col3\" class=\"data row0 col3\" >0.0208</td>\n",
       "      <td id=\"T_112b2_row0_col4\" class=\"data row0 col4\" >0.5903</td>\n",
       "      <td id=\"T_112b2_row0_col5\" class=\"data row0 col5\" >0.4272</td>\n",
       "    </tr>\n",
       "    <tr>\n",
       "      <th id=\"T_112b2_level0_row1\" class=\"row_heading level0 row1\" >1</th>\n",
       "      <td id=\"T_112b2_row1_col0\" class=\"data row1 col0\" >81.2324</td>\n",
       "      <td id=\"T_112b2_row1_col1\" class=\"data row1 col1\" >69767.6913</td>\n",
       "      <td id=\"T_112b2_row1_col2\" class=\"data row1 col2\" >264.1357</td>\n",
       "      <td id=\"T_112b2_row1_col3\" class=\"data row1 col3\" >0.1390</td>\n",
       "      <td id=\"T_112b2_row1_col4\" class=\"data row1 col4\" >0.5289</td>\n",
       "      <td id=\"T_112b2_row1_col5\" class=\"data row1 col5\" >0.4316</td>\n",
       "    </tr>\n",
       "    <tr>\n",
       "      <th id=\"T_112b2_level0_row2\" class=\"row_heading level0 row2\" >2</th>\n",
       "      <td id=\"T_112b2_row2_col0\" class=\"data row2 col0\" >81.4788</td>\n",
       "      <td id=\"T_112b2_row2_col1\" class=\"data row2 col1\" >98765.8739</td>\n",
       "      <td id=\"T_112b2_row2_col2\" class=\"data row2 col2\" >314.2704</td>\n",
       "      <td id=\"T_112b2_row2_col3\" class=\"data row2 col3\" >0.0637</td>\n",
       "      <td id=\"T_112b2_row2_col4\" class=\"data row2 col4\" >0.5496</td>\n",
       "      <td id=\"T_112b2_row2_col5\" class=\"data row2 col5\" >0.4106</td>\n",
       "    </tr>\n",
       "    <tr>\n",
       "      <th id=\"T_112b2_level0_row3\" class=\"row_heading level0 row3\" >3</th>\n",
       "      <td id=\"T_112b2_row3_col0\" class=\"data row3 col0\" >83.7623</td>\n",
       "      <td id=\"T_112b2_row3_col1\" class=\"data row3 col1\" >54727.1912</td>\n",
       "      <td id=\"T_112b2_row3_col2\" class=\"data row3 col2\" >233.9384</td>\n",
       "      <td id=\"T_112b2_row3_col3\" class=\"data row3 col3\" >0.1640</td>\n",
       "      <td id=\"T_112b2_row3_col4\" class=\"data row3 col4\" >0.5552</td>\n",
       "      <td id=\"T_112b2_row3_col5\" class=\"data row3 col5\" >0.4279</td>\n",
       "    </tr>\n",
       "    <tr>\n",
       "      <th id=\"T_112b2_level0_row4\" class=\"row_heading level0 row4\" >4</th>\n",
       "      <td id=\"T_112b2_row4_col0\" class=\"data row4 col0\" >82.0328</td>\n",
       "      <td id=\"T_112b2_row4_col1\" class=\"data row4 col1\" >57801.2271</td>\n",
       "      <td id=\"T_112b2_row4_col2\" class=\"data row4 col2\" >240.4189</td>\n",
       "      <td id=\"T_112b2_row4_col3\" class=\"data row4 col3\" >0.1143</td>\n",
       "      <td id=\"T_112b2_row4_col4\" class=\"data row4 col4\" >0.5684</td>\n",
       "      <td id=\"T_112b2_row4_col5\" class=\"data row4 col5\" >0.4614</td>\n",
       "    </tr>\n",
       "    <tr>\n",
       "      <th id=\"T_112b2_level0_row5\" class=\"row_heading level0 row5\" >5</th>\n",
       "      <td id=\"T_112b2_row5_col0\" class=\"data row5 col0\" >98.1752</td>\n",
       "      <td id=\"T_112b2_row5_col1\" class=\"data row5 col1\" >245428.2015</td>\n",
       "      <td id=\"T_112b2_row5_col2\" class=\"data row5 col2\" >495.4071</td>\n",
       "      <td id=\"T_112b2_row5_col3\" class=\"data row5 col3\" >0.0448</td>\n",
       "      <td id=\"T_112b2_row5_col4\" class=\"data row5 col4\" >0.5629</td>\n",
       "      <td id=\"T_112b2_row5_col5\" class=\"data row5 col5\" >0.4128</td>\n",
       "    </tr>\n",
       "    <tr>\n",
       "      <th id=\"T_112b2_level0_row6\" class=\"row_heading level0 row6\" >6</th>\n",
       "      <td id=\"T_112b2_row6_col0\" class=\"data row6 col0\" >74.3773</td>\n",
       "      <td id=\"T_112b2_row6_col1\" class=\"data row6 col1\" >22371.4377</td>\n",
       "      <td id=\"T_112b2_row6_col2\" class=\"data row6 col2\" >149.5708</td>\n",
       "      <td id=\"T_112b2_row6_col3\" class=\"data row6 col3\" >0.2824</td>\n",
       "      <td id=\"T_112b2_row6_col4\" class=\"data row6 col4\" >0.5327</td>\n",
       "      <td id=\"T_112b2_row6_col5\" class=\"data row6 col5\" >0.4330</td>\n",
       "    </tr>\n",
       "    <tr>\n",
       "      <th id=\"T_112b2_level0_row7\" class=\"row_heading level0 row7\" >7</th>\n",
       "      <td id=\"T_112b2_row7_col0\" class=\"data row7 col0\" >96.1067</td>\n",
       "      <td id=\"T_112b2_row7_col1\" class=\"data row7 col1\" >224172.4610</td>\n",
       "      <td id=\"T_112b2_row7_col2\" class=\"data row7 col2\" >473.4685</td>\n",
       "      <td id=\"T_112b2_row7_col3\" class=\"data row7 col3\" >0.0449</td>\n",
       "      <td id=\"T_112b2_row7_col4\" class=\"data row7 col4\" >0.5581</td>\n",
       "      <td id=\"T_112b2_row7_col5\" class=\"data row7 col5\" >0.4114</td>\n",
       "    </tr>\n",
       "    <tr>\n",
       "      <th id=\"T_112b2_level0_row8\" class=\"row_heading level0 row8\" >8</th>\n",
       "      <td id=\"T_112b2_row8_col0\" class=\"data row8 col0\" >86.7503</td>\n",
       "      <td id=\"T_112b2_row8_col1\" class=\"data row8 col1\" >95663.4303</td>\n",
       "      <td id=\"T_112b2_row8_col2\" class=\"data row8 col2\" >309.2951</td>\n",
       "      <td id=\"T_112b2_row8_col3\" class=\"data row8 col3\" >0.0898</td>\n",
       "      <td id=\"T_112b2_row8_col4\" class=\"data row8 col4\" >0.5463</td>\n",
       "      <td id=\"T_112b2_row8_col5\" class=\"data row8 col5\" >0.4205</td>\n",
       "    </tr>\n",
       "    <tr>\n",
       "      <th id=\"T_112b2_level0_row9\" class=\"row_heading level0 row9\" >9</th>\n",
       "      <td id=\"T_112b2_row9_col0\" class=\"data row9 col0\" >86.8498</td>\n",
       "      <td id=\"T_112b2_row9_col1\" class=\"data row9 col1\" >128265.0334</td>\n",
       "      <td id=\"T_112b2_row9_col2\" class=\"data row9 col2\" >358.1411</td>\n",
       "      <td id=\"T_112b2_row9_col3\" class=\"data row9 col3\" >0.0628</td>\n",
       "      <td id=\"T_112b2_row9_col4\" class=\"data row9 col4\" >0.5549</td>\n",
       "      <td id=\"T_112b2_row9_col5\" class=\"data row9 col5\" >0.4273</td>\n",
       "    </tr>\n",
       "    <tr>\n",
       "      <th id=\"T_112b2_level0_row10\" class=\"row_heading level0 row10\" >Mean</th>\n",
       "      <td id=\"T_112b2_row10_col0\" class=\"data row10 col0\" >86.8399</td>\n",
       "      <td id=\"T_112b2_row10_col1\" class=\"data row10 col1\" >127184.6235</td>\n",
       "      <td id=\"T_112b2_row10_col2\" class=\"data row10 col2\" >336.2940</td>\n",
       "      <td id=\"T_112b2_row10_col3\" class=\"data row10 col3\" >0.1026</td>\n",
       "      <td id=\"T_112b2_row10_col4\" class=\"data row10 col4\" >0.5547</td>\n",
       "      <td id=\"T_112b2_row10_col5\" class=\"data row10 col5\" >0.4264</td>\n",
       "    </tr>\n",
       "    <tr>\n",
       "      <th id=\"T_112b2_level0_row11\" class=\"row_heading level0 row11\" >Std</th>\n",
       "      <td id=\"T_112b2_row11_col0\" class=\"data row11 col0\" >7.6089</td>\n",
       "      <td id=\"T_112b2_row11_col1\" class=\"data row11 col1\" >84470.2429</td>\n",
       "      <td id=\"T_112b2_row11_col2\" class=\"data row11 col2\" >118.7055</td>\n",
       "      <td id=\"T_112b2_row11_col3\" class=\"data row11 col3\" >0.0736</td>\n",
       "      <td id=\"T_112b2_row11_col4\" class=\"data row11 col4\" >0.0167</td>\n",
       "      <td id=\"T_112b2_row11_col5\" class=\"data row11 col5\" >0.0141</td>\n",
       "    </tr>\n",
       "  </tbody>\n",
       "</table>\n"
      ],
      "text/plain": [
       "<pandas.io.formats.style.Styler at 0x26d2698c8b0>"
      ]
     },
     "metadata": {},
     "output_type": "display_data"
    },
    {
     "data": {
      "application/vnd.jupyter.widget-view+json": {
       "model_id": "4208280e687d44ed850d0537723c1be1",
       "version_major": 2,
       "version_minor": 0
      },
      "text/plain": [
       "Processing:   0%|          | 0/4 [00:00<?, ?it/s]"
      ]
     },
     "metadata": {},
     "output_type": "display_data"
    }
   ],
   "source": [
    "huber = create_model('huber')"
   ]
  },
  {
   "cell_type": "code",
   "execution_count": 16,
   "metadata": {},
   "outputs": [
    {
     "data": {
      "text/html": [],
      "text/plain": [
       "<IPython.core.display.HTML object>"
      ]
     },
     "metadata": {},
     "output_type": "display_data"
    },
    {
     "data": {
      "text/html": [
       "<style type=\"text/css\">\n",
       "#T_d44ef_row10_col0, #T_d44ef_row10_col1, #T_d44ef_row10_col2, #T_d44ef_row10_col3, #T_d44ef_row10_col4, #T_d44ef_row10_col5 {\n",
       "  background: yellow;\n",
       "}\n",
       "</style>\n",
       "<table id=\"T_d44ef\">\n",
       "  <thead>\n",
       "    <tr>\n",
       "      <th class=\"blank level0\" >&nbsp;</th>\n",
       "      <th id=\"T_d44ef_level0_col0\" class=\"col_heading level0 col0\" >MAE</th>\n",
       "      <th id=\"T_d44ef_level0_col1\" class=\"col_heading level0 col1\" >MSE</th>\n",
       "      <th id=\"T_d44ef_level0_col2\" class=\"col_heading level0 col2\" >RMSE</th>\n",
       "      <th id=\"T_d44ef_level0_col3\" class=\"col_heading level0 col3\" >R2</th>\n",
       "      <th id=\"T_d44ef_level0_col4\" class=\"col_heading level0 col4\" >RMSLE</th>\n",
       "      <th id=\"T_d44ef_level0_col5\" class=\"col_heading level0 col5\" >MAPE</th>\n",
       "    </tr>\n",
       "    <tr>\n",
       "      <th class=\"index_name level0\" >Fold</th>\n",
       "      <th class=\"blank col0\" >&nbsp;</th>\n",
       "      <th class=\"blank col1\" >&nbsp;</th>\n",
       "      <th class=\"blank col2\" >&nbsp;</th>\n",
       "      <th class=\"blank col3\" >&nbsp;</th>\n",
       "      <th class=\"blank col4\" >&nbsp;</th>\n",
       "      <th class=\"blank col5\" >&nbsp;</th>\n",
       "    </tr>\n",
       "  </thead>\n",
       "  <tbody>\n",
       "    <tr>\n",
       "      <th id=\"T_d44ef_level0_row0\" class=\"row_heading level0 row0\" >0</th>\n",
       "      <td id=\"T_d44ef_row0_col0\" class=\"data row0 col0\" >98.1031</td>\n",
       "      <td id=\"T_d44ef_row0_col1\" class=\"data row0 col1\" >273593.5126</td>\n",
       "      <td id=\"T_d44ef_row0_col2\" class=\"data row0 col2\" >523.0617</td>\n",
       "      <td id=\"T_d44ef_row0_col3\" class=\"data row0 col3\" >0.0254</td>\n",
       "      <td id=\"T_d44ef_row0_col4\" class=\"data row0 col4\" >0.5752</td>\n",
       "      <td id=\"T_d44ef_row0_col5\" class=\"data row0 col5\" >0.4515</td>\n",
       "    </tr>\n",
       "    <tr>\n",
       "      <th id=\"T_d44ef_level0_row1\" class=\"row_heading level0 row1\" >1</th>\n",
       "      <td id=\"T_d44ef_row1_col0\" class=\"data row1 col0\" >81.5708</td>\n",
       "      <td id=\"T_d44ef_row1_col1\" class=\"data row1 col1\" >69082.2093</td>\n",
       "      <td id=\"T_d44ef_row1_col2\" class=\"data row1 col2\" >262.8349</td>\n",
       "      <td id=\"T_d44ef_row1_col3\" class=\"data row1 col3\" >0.1475</td>\n",
       "      <td id=\"T_d44ef_row1_col4\" class=\"data row1 col4\" >0.5372</td>\n",
       "      <td id=\"T_d44ef_row1_col5\" class=\"data row1 col5\" >0.4569</td>\n",
       "    </tr>\n",
       "    <tr>\n",
       "      <th id=\"T_d44ef_level0_row2\" class=\"row_heading level0 row2\" >2</th>\n",
       "      <td id=\"T_d44ef_row2_col0\" class=\"data row2 col0\" >82.1291</td>\n",
       "      <td id=\"T_d44ef_row2_col1\" class=\"data row2 col1\" >98320.9154</td>\n",
       "      <td id=\"T_d44ef_row2_col2\" class=\"data row2 col2\" >313.5617</td>\n",
       "      <td id=\"T_d44ef_row2_col3\" class=\"data row2 col3\" >0.0679</td>\n",
       "      <td id=\"T_d44ef_row2_col4\" class=\"data row2 col4\" >0.5456</td>\n",
       "      <td id=\"T_d44ef_row2_col5\" class=\"data row2 col5\" >0.4327</td>\n",
       "    </tr>\n",
       "    <tr>\n",
       "      <th id=\"T_d44ef_level0_row3\" class=\"row_heading level0 row3\" >3</th>\n",
       "      <td id=\"T_d44ef_row3_col0\" class=\"data row3 col0\" >84.2490</td>\n",
       "      <td id=\"T_d44ef_row3_col1\" class=\"data row3 col1\" >54059.3721</td>\n",
       "      <td id=\"T_d44ef_row3_col2\" class=\"data row3 col2\" >232.5067</td>\n",
       "      <td id=\"T_d44ef_row3_col3\" class=\"data row3 col3\" >0.1742</td>\n",
       "      <td id=\"T_d44ef_row3_col4\" class=\"data row3 col4\" >0.5603</td>\n",
       "      <td id=\"T_d44ef_row3_col5\" class=\"data row3 col5\" >0.4488</td>\n",
       "    </tr>\n",
       "    <tr>\n",
       "      <th id=\"T_d44ef_level0_row4\" class=\"row_heading level0 row4\" >4</th>\n",
       "      <td id=\"T_d44ef_row4_col0\" class=\"data row4 col0\" >82.7143</td>\n",
       "      <td id=\"T_d44ef_row4_col1\" class=\"data row4 col1\" >56942.0028</td>\n",
       "      <td id=\"T_d44ef_row4_col2\" class=\"data row4 col2\" >238.6252</td>\n",
       "      <td id=\"T_d44ef_row4_col3\" class=\"data row4 col3\" >0.1275</td>\n",
       "      <td id=\"T_d44ef_row4_col4\" class=\"data row4 col4\" >0.5736</td>\n",
       "      <td id=\"T_d44ef_row4_col5\" class=\"data row4 col5\" >0.4850</td>\n",
       "    </tr>\n",
       "    <tr>\n",
       "      <th id=\"T_d44ef_level0_row5\" class=\"row_heading level0 row5\" >5</th>\n",
       "      <td id=\"T_d44ef_row5_col0\" class=\"data row5 col0\" >98.8667</td>\n",
       "      <td id=\"T_d44ef_row5_col1\" class=\"data row5 col1\" >244633.0597</td>\n",
       "      <td id=\"T_d44ef_row5_col2\" class=\"data row5 col2\" >494.6039</td>\n",
       "      <td id=\"T_d44ef_row5_col3\" class=\"data row5 col3\" >0.0479</td>\n",
       "      <td id=\"T_d44ef_row5_col4\" class=\"data row5 col4\" >0.5599</td>\n",
       "      <td id=\"T_d44ef_row5_col5\" class=\"data row5 col5\" >0.4351</td>\n",
       "    </tr>\n",
       "    <tr>\n",
       "      <th id=\"T_d44ef_level0_row6\" class=\"row_heading level0 row6\" >6</th>\n",
       "      <td id=\"T_d44ef_row6_col0\" class=\"data row6 col0\" >75.1345</td>\n",
       "      <td id=\"T_d44ef_row6_col1\" class=\"data row6 col1\" >21994.5352</td>\n",
       "      <td id=\"T_d44ef_row6_col2\" class=\"data row6 col2\" >148.3055</td>\n",
       "      <td id=\"T_d44ef_row6_col3\" class=\"data row6 col3\" >0.2945</td>\n",
       "      <td id=\"T_d44ef_row6_col4\" class=\"data row6 col4\" >0.5351</td>\n",
       "      <td id=\"T_d44ef_row6_col5\" class=\"data row6 col5\" >0.4566</td>\n",
       "    </tr>\n",
       "    <tr>\n",
       "      <th id=\"T_d44ef_level0_row7\" class=\"row_heading level0 row7\" >7</th>\n",
       "      <td id=\"T_d44ef_row7_col0\" class=\"data row7 col0\" >96.6386</td>\n",
       "      <td id=\"T_d44ef_row7_col1\" class=\"data row7 col1\" >223447.8703</td>\n",
       "      <td id=\"T_d44ef_row7_col2\" class=\"data row7 col2\" >472.7027</td>\n",
       "      <td id=\"T_d44ef_row7_col3\" class=\"data row7 col3\" >0.0480</td>\n",
       "      <td id=\"T_d44ef_row7_col4\" class=\"data row7 col4\" >0.5656</td>\n",
       "      <td id=\"T_d44ef_row7_col5\" class=\"data row7 col5\" >0.4336</td>\n",
       "    </tr>\n",
       "    <tr>\n",
       "      <th id=\"T_d44ef_level0_row8\" class=\"row_heading level0 row8\" >8</th>\n",
       "      <td id=\"T_d44ef_row8_col0\" class=\"data row8 col0\" >87.3349</td>\n",
       "      <td id=\"T_d44ef_row8_col1\" class=\"data row8 col1\" >94886.9324</td>\n",
       "      <td id=\"T_d44ef_row8_col2\" class=\"data row8 col2\" >308.0372</td>\n",
       "      <td id=\"T_d44ef_row8_col3\" class=\"data row8 col3\" >0.0972</td>\n",
       "      <td id=\"T_d44ef_row8_col4\" class=\"data row8 col4\" >0.5526</td>\n",
       "      <td id=\"T_d44ef_row8_col5\" class=\"data row8 col5\" >0.4425</td>\n",
       "    </tr>\n",
       "    <tr>\n",
       "      <th id=\"T_d44ef_level0_row9\" class=\"row_heading level0 row9\" >9</th>\n",
       "      <td id=\"T_d44ef_row9_col0\" class=\"data row9 col0\" >87.3247</td>\n",
       "      <td id=\"T_d44ef_row9_col1\" class=\"data row9 col1\" >127561.7874</td>\n",
       "      <td id=\"T_d44ef_row9_col2\" class=\"data row9 col2\" >357.1579</td>\n",
       "      <td id=\"T_d44ef_row9_col3\" class=\"data row9 col3\" >0.0679</td>\n",
       "      <td id=\"T_d44ef_row9_col4\" class=\"data row9 col4\" >0.5528</td>\n",
       "      <td id=\"T_d44ef_row9_col5\" class=\"data row9 col5\" >0.4485</td>\n",
       "    </tr>\n",
       "    <tr>\n",
       "      <th id=\"T_d44ef_level0_row10\" class=\"row_heading level0 row10\" >Mean</th>\n",
       "      <td id=\"T_d44ef_row10_col0\" class=\"data row10 col0\" >87.4066</td>\n",
       "      <td id=\"T_d44ef_row10_col1\" class=\"data row10 col1\" >126452.2197</td>\n",
       "      <td id=\"T_d44ef_row10_col2\" class=\"data row10 col2\" >335.1398</td>\n",
       "      <td id=\"T_d44ef_row10_col3\" class=\"data row10 col3\" >0.1098</td>\n",
       "      <td id=\"T_d44ef_row10_col4\" class=\"data row10 col4\" >0.5558</td>\n",
       "      <td id=\"T_d44ef_row10_col5\" class=\"data row10 col5\" >0.4491</td>\n",
       "    </tr>\n",
       "    <tr>\n",
       "      <th id=\"T_d44ef_level0_row11\" class=\"row_heading level0 row11\" >Std</th>\n",
       "      <td id=\"T_d44ef_row11_col0\" class=\"data row11 col0\" >7.5861</td>\n",
       "      <td id=\"T_d44ef_row11_col1\" class=\"data row11 col1\" >84314.5994</td>\n",
       "      <td id=\"T_d44ef_row11_col2\" class=\"data row11 col2\" >118.8847</td>\n",
       "      <td id=\"T_d44ef_row11_col3\" class=\"data row11 col3\" >0.0764</td>\n",
       "      <td id=\"T_d44ef_row11_col4\" class=\"data row11 col4\" >0.0131</td>\n",
       "      <td id=\"T_d44ef_row11_col5\" class=\"data row11 col5\" >0.0147</td>\n",
       "    </tr>\n",
       "  </tbody>\n",
       "</table>\n"
      ],
      "text/plain": [
       "<pandas.io.formats.style.Styler at 0x26d26c8beb0>"
      ]
     },
     "metadata": {},
     "output_type": "display_data"
    },
    {
     "data": {
      "application/vnd.jupyter.widget-view+json": {
       "model_id": "9c6aa4c7bd18473cbbd06194ebd5fb58",
       "version_major": 2,
       "version_minor": 0
      },
      "text/plain": [
       "Processing:   0%|          | 0/7 [00:00<?, ?it/s]"
      ]
     },
     "metadata": {},
     "output_type": "display_data"
    },
    {
     "name": "stdout",
     "output_type": "stream",
     "text": [
      "Fitting 10 folds for each of 10 candidates, totalling 100 fits\n"
     ]
    }
   ],
   "source": [
    "huber=  tune_model(huber)"
   ]
  },
  {
   "cell_type": "code",
   "execution_count": 17,
   "metadata": {},
   "outputs": [
    {
     "data": {
      "application/vnd.jupyter.widget-view+json": {
       "model_id": "073bbdca187e425d8b6a1f40f733e58f",
       "version_major": 2,
       "version_minor": 0
      },
      "text/plain": [
       "interactive(children=(ToggleButtons(description='Plot Type:', icons=('',), options=(('Pipeline Plot', 'pipelin…"
      ]
     },
     "metadata": {},
     "output_type": "display_data"
    },
    {
     "data": {
      "image/png": "[encoded data removed]",
      "text/plain": [
       "<Figure size 800x550 with 1 Axes>"
      ]
     },
     "metadata": {},
     "output_type": "display_data"
    }
   ],
   "source": [
    "evaluate_model(huber)"
   ]
  },
  {
   "cell_type": "code",
   "execution_count": 18,
   "metadata": {},
   "outputs": [],
   "source": [
    "final_best = finalize_model(huber)"
   ]
  },
  {
   "cell_type": "code",
   "execution_count": 19,
   "metadata": {},
   "outputs": [
    {
     "name": "stdout",
     "output_type": "stream",
     "text": [
      "Transformation Pipeline and Model Successfully Saved\n"
     ]
    },
    {
     "data": {
      "text/plain": [
       "(Pipeline(memory=Memory(location=None),\n",
       "          steps=[('numerical_imputer',\n",
       "                  TransformerWrapper(include=['accommodates', 'minimum_nights',\n",
       "                                              'maximum_nights'],\n",
       "                                     transformer=SimpleImputer())),\n",
       "                 ('categorical_imputer',\n",
       "                  TransformerWrapper(include=['neighbourhood', 'property_type',\n",
       "                                              'room_type'],\n",
       "                                     transformer=SimpleImputer(strategy='most_frequent'))),\n",
       "                 ('onehot_encoding',\n",
       "                  Transfo...include=['room_type'],\n",
       "                                     transformer=OneHotEncoder(cols=['room_type'],\n",
       "                                                               handle_missing='return_nan',\n",
       "                                                               use_cat_names=True))),\n",
       "                 ('rest_encoding',\n",
       "                  TransformerWrapper(include=['neighbourhood', 'property_type'],\n",
       "                                     transformer=TargetEncoder(cols=['neighbourhood',\n",
       "                                                                     'property_type'],\n",
       "                                                               handle_missing='return_nan'))),\n",
       "                 ('trained_model', HuberRegressor(alpha=0.005, epsilon=1.8))]),\n",
       " 'ml_airbnb.pkl')"
      ]
     },
     "execution_count": 19,
     "metadata": {},
     "output_type": "execute_result"
    }
   ],
   "source": [
    "save_model(huber, 'ml_airbnb') #se guarda un archivo que es el modelo y ese archivo se usa para hacer predicciones "
   ]
  }
 ],
 "metadata": {
  "kernelspec": {
   "display_name": "ent10",
   "language": "python",
   "name": "python3"
  },
  "language_info": {
   "codemirror_mode": {
    "name": "ipython",
    "version": 3
   },
   "file_extension": ".py",
   "mimetype": "text/x-python",
   "name": "python",
   "nbconvert_exporter": "python",
   "pygments_lexer": "ipython3",
   "version": "3.10.0"
  }
 },
 "nbformat": 4,
 "nbformat_minor": 2
}
